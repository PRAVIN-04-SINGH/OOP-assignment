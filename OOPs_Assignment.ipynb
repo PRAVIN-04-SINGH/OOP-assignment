{
  "nbformat": 4,
  "nbformat_minor": 0,
  "metadata": {
    "colab": {
      "provenance": []
    },
    "kernelspec": {
      "name": "python3",
      "display_name": "Python 3"
    },
    "language_info": {
      "name": "python"
    }
  },
  "cells": [
    {
      "cell_type": "markdown",
      "source": [
        "# **Python OOPs Questions**"
      ],
      "metadata": {
        "id": "EUdWWebE6bnw"
      }
    },
    {
      "cell_type": "markdown",
      "source": [
        "**1.What is Object-Oriented Programming (OOP)?**\n",
        " - Object-Oriented Programming (OOP) is a programming paradigm that is based on the concept of \"objects.\" Objects represent real-world entities and are instances of classes, which define their structure and behavior. OOP aims to make code more modular, reusable, and easier to manage by organizing data and functions into these objects.\n",
        "\n",
        "- Key principles of OOP:\n",
        "\n",
        "   -  Encapsulation: Bundling data (attributes) and methods (functions) that operate on the data within a single unit (class or object). This protects data from unintended interference and misuse.\n",
        "\n",
        "  - Inheritance: Creating new classes (derived classes) from existing ones (base classes), allowing reuse of code and implementation of hierarchical relationships.\n",
        "\n",
        "  - Polymorphism: Enabling objects to be treated as instances of their parent class, and allowing methods to perform different tasks based on the object's type.\n",
        "\n",
        "  - Abstraction: Hiding implementation details from the user and only exposing essential features or functionality.\n",
        "\n",
        "Popular OOP languages include Java, Python, C++, and C#."
      ],
      "metadata": {
        "id": "Zbru7XDZ6fBq"
      }
    },
    {
      "cell_type": "markdown",
      "source": [
        "**2.What is a class in OOP?**\n",
        "- In Object-Oriented Programming (OOP), a class is a blueprint or template for creating objects. It defines the structure and behavior that the objects (instances of the class) will have. Essentially, it encapsulates data (attributes or properties) and methods (functions or behaviors) that operate on that data."
      ],
      "metadata": {
        "id": "RE9mA3bTG9IJ"
      }
    },
    {
      "cell_type": "code",
      "execution_count": null,
      "metadata": {
        "id": "HG2k1Dnu6YyK"
      },
      "outputs": [],
      "source": [
        "class Car:\n",
        "    # Attributes (data)\n",
        "    def __init__(self, brand, model, year):\n",
        "        self.brand = brand\n",
        "        self.model = model\n",
        "        self.year = year\n",
        "\n",
        "    # Method (behavior)\n",
        "    def display_info(self):\n",
        "        print(f\"This car is a {self.year} {self.brand} {self.model}.\")\n"
      ]
    },
    {
      "cell_type": "markdown",
      "source": [
        "**3. What is an object in OOP?**\n",
        "- In Object-Oriented Programming (OOP), an object is an instance of a class. It represents a specific entity created based on the class blueprint, with its own unique data and behavior."
      ],
      "metadata": {
        "id": "tkVZi2XeIJSC"
      }
    },
    {
      "cell_type": "code",
      "source": [
        "# Creating objects of the Car class\n",
        "car1 = Car(\"Tata\", \"Punch\", 2024)\n",
        "car2 = Car(\"Hyundai\", \"Aura\", 2025)\n",
        "\n",
        "# Using methods on the objects\n",
        "car1.display_info()  # Output: This car is a 2024 Tata Punch.\n",
        "car2.display_info()  # Output: This car is a 2025 Hyundai Aura.\n"
      ],
      "metadata": {
        "colab": {
          "base_uri": "https://localhost:8080/"
        },
        "id": "9DY8SebxIl_v",
        "outputId": "2da1fe54-55d3-422a-c92d-5905f2c653ef"
      },
      "execution_count": null,
      "outputs": [
        {
          "output_type": "stream",
          "name": "stdout",
          "text": [
            "This car is a 2024 Tata Punch.\n",
            "This car is a 2025 Hyundai Aura.\n"
          ]
        }
      ]
    },
    {
      "cell_type": "markdown",
      "source": [
        "**4. What is the difference between abstraction and encapsulation?**\n",
        "- Abstraction\n",
        "   - Definition: Abstraction is about hiding the complexity of a system and exposing only the essential features. It allows you to focus on \"what\" an object does rather than \"how\" it does it.\n",
        "\n",
        "   - Purpose: To simplify the user experience by providing a clear interface.\n",
        "- Encapsulation\n",
        "   - Definition: Encapsulation is about bundling data (attributes) and methods (functions) that operate on the data into a single unit (class), and restricting direct access to some of the object's components for security and integrity.\n",
        "\n",
        "   - Purpose: To protect an object’s internal state and prevent unauthorized access or modification."
      ],
      "metadata": {
        "id": "d_qBsNmTJVNr"
      }
    },
    {
      "cell_type": "code",
      "source": [
        "from abc import ABC, abstractmethod\n",
        "\n",
        "# Abstraction: Creating an abstract class for Car\n",
        "class Car(ABC):\n",
        "    @abstractmethod\n",
        "    def start(self):\n",
        "        pass\n",
        "\n",
        "    @abstractmethod\n",
        "    def drive(self):\n",
        "        pass\n",
        "\n",
        "    @abstractmethod\n",
        "    def stop(self):\n",
        "        pass\n",
        "\n",
        "# Encapsulation: Implementing the Car class with protected attributes\n",
        "class SportsCar(Car):\n",
        "    def __init__(self, make, model, engine_capacity):\n",
        "        self.__make = make               # Private attribute\n",
        "        self.__model = model             # Private attribute\n",
        "        self.__engine_capacity = engine_capacity  # Private attribute\n",
        "        self.__is_engine_on = False      # Internal state, not directly accessible\n",
        "\n",
        "    # Public method to start the car (encapsulated logic)\n",
        "    def start(self):\n",
        "        if not self.__is_engine_on:\n",
        "            self.__is_engine_on = True\n",
        "            print(f\"The {self.__make} {self.__model}'s engine is now running.\")\n",
        "        else:\n",
        "            print(f\"The {self.__make} {self.__model} is already started!\")\n",
        "\n",
        "    # Public method to drive the car\n",
        "    def drive(self):\n",
        "        if self.__is_engine_on:\n",
        "            print(f\"The {self.__make} {self.__model} is now driving.\")\n",
        "        else:\n",
        "            print(f\"Start the engine first before driving the {self.__make} {self.__model}.\")\n",
        "\n",
        "    # Public method to stop the car\n",
        "    def stop(self):\n",
        "        if self.__is_engine_on:\n",
        "            self.__is_engine_on = False\n",
        "            print(f\"The {self.__make} {self.__model} has been turned off.\")\n",
        "        else:\n",
        "            print(f\"The {self.__make} {self.__model}'s engine is already off.\")\n",
        "\n",
        "    # Getter method for encapsulated data\n",
        "    def get_car_details(self):\n",
        "        return f\"{self.__make} {self.__model} with {self.__engine_capacity} engine capacity.\"\n",
        "\n",
        "# Using the abstraction and encapsulation\n",
        "my_car = SportsCar(\"Ferrari\", \"488 GTB\", \"3.9L V8\")\n",
        "print(my_car.get_car_details())  # Accessing protected data via a method\n",
        "\n",
        "my_car.start()  # Start the car\n",
        "my_car.drive()  # Drive the car\n",
        "my_car.stop()   # Stop the car\n"
      ],
      "metadata": {
        "colab": {
          "base_uri": "https://localhost:8080/"
        },
        "id": "cwNzhUNoJAsQ",
        "outputId": "b032c1d3-90f3-409a-ef24-17cea9ddf1b5"
      },
      "execution_count": null,
      "outputs": [
        {
          "output_type": "stream",
          "name": "stdout",
          "text": [
            "Ferrari 488 GTB with 3.9L V8 engine capacity.\n",
            "The Ferrari 488 GTB's engine is now running.\n",
            "The Ferrari 488 GTB is now driving.\n",
            "The Ferrari 488 GTB has been turned off.\n"
          ]
        }
      ]
    },
    {
      "cell_type": "markdown",
      "source": [
        "Explanation\n",
        "- Abstraction:\n",
        "\n",
        "  - The Car abstract class defines the essential actions (start, drive, stop) that any car should have, without specifying how they work.\n",
        "\n",
        "  - The SportsCar class implements the abstract methods with the actual logic.\n",
        "\n",
        "- Encapsulation:\n",
        "\n",
        "  - The attributes like __make, __model, and __engine_capacity are private (__ prefix), meaning they can't be accessed directly outside the class.\n",
        "\n",
        "  - Access to these attributes is provided through a getter method (get_car_details).\n",
        "\n",
        "  - The internal state (__is_engine_on) is encapsulated, ensuring the car can only be started, driven, or stopped through the designated methods (start, drive, stop).\n",
        "\n",
        "This way, abstraction hides the details of how actions like starting and driving are implemented, while encapsulation protects the internal state of the car."
      ],
      "metadata": {
        "id": "RIiUfDd4NshQ"
      }
    },
    {
      "cell_type": "markdown",
      "source": [
        "**5.What are dunder methods in Python?**\n",
        "- Dunder methods (short for \"double underscore\" methods) in Python are special methods with names surrounded by double underscores (e.g., __init__, __str__). These methods are also called magic methods because they enable you to add special functionality to your classes and objects, allowing integration with Python's built-in syntax and operations.\n",
        "\n",
        "Dunder methods are mainly used to:\n",
        "\n",
        "  - Customize the behavior of objects.\n",
        "\n",
        "  - Enable operator overloading (e.g., adding two objects with +).\n",
        "\n",
        "- Define special behavior for Python's built-in operations, such as iteration or comparison."
      ],
      "metadata": {
        "id": "4H7UlwSAOGPJ"
      }
    },
    {
      "cell_type": "markdown",
      "source": [
        "**6. Explain the concept of inheritance in OOP.**\n",
        "- Inheritance is a fundamental concept in Object-Oriented Programming (OOP) that allows one class (called the child class or subclass) to derive or inherit properties and behaviors (attributes and methods) from another class (called the parent class or superclass). It promotes code reuse, extensibility, and maintainability.\n",
        "\n",
        "**Key Aspects of Inheritance**\n",
        "- Parent Class: The class whose properties and methods are inherited.\n",
        "\n",
        "- Child Class: The class that inherits from the parent class and can add its own properties or override inherited ones.\n",
        "\n",
        "- Single Inheritance: A subclass inherits from a single parent class.\n",
        "\n",
        "- Multiple Inheritance: A subclass inherits from multiple parent classes (not supported in some languages like Java but available in Python).\n",
        "\n",
        "- Hierarchical Inheritance: Multiple subclasses inherit from the same parent class.\n",
        "\n",
        "- Multilevel Inheritance: A subclass acts as a parent class for another subclass.\n",
        "\n",
        "**Benefits of Inheritance**\n",
        "- Code Reusability: You can reuse existing code rather than writing it again.\n",
        "\n",
        "- Extensibility: You can add new functionalities to existing classes without modifying them.\n",
        "\n",
        "- Organization: Helps structure your code logically by grouping related functionalities."
      ],
      "metadata": {
        "id": "CvYhEcFofzBU"
      }
    },
    {
      "cell_type": "code",
      "source": [
        "# Parent class (Super/ Base Class)\n",
        "class Vehicle:\n",
        "    def __init__(self, brand, model):\n",
        "        self.brand = brand\n",
        "        self.model = model\n",
        "\n",
        "    def start(self):\n",
        "        return f\"{self.brand} {self.model} is starting.\"\n",
        "\n",
        "# Child class (Sub/ Derived Class)\n",
        "class Car(Vehicle):\n",
        "    def __init__(self, brand, model, doors):\n",
        "        super().__init__(brand, model)  # Inherit attributes from parent\n",
        "        self.doors = doors\n",
        "\n",
        "    def open_doors(self):\n",
        "        return f\"Opening {self.doors} doors of {self.brand} {self.model}.\"\n",
        "\n",
        "# Using the classes\n",
        "my_car = Car(\"Tata\", \"Punch\", 4)\n",
        "print(my_car.start())        # Inherited method from Vehicle\n",
        "print(my_car.open_doors())   # Method from Car\n"
      ],
      "metadata": {
        "colab": {
          "base_uri": "https://localhost:8080/"
        },
        "id": "gK0voZlFNdU4",
        "outputId": "997cbbcc-a1e7-4f12-8b77-28c834d3e3b9"
      },
      "execution_count": null,
      "outputs": [
        {
          "output_type": "stream",
          "name": "stdout",
          "text": [
            "Tata Punch is starting.\n",
            "Opening 4 doors of Tata Punch.\n"
          ]
        }
      ]
    },
    {
      "cell_type": "markdown",
      "source": [
        "**Key Points in the Code**\n",
        "- The Vehicle class defines basic properties (brand, model) and a method (start).\n",
        "\n",
        "- The Car class inherits the properties and behaviors of Vehicle using the super() function to access the parent class's constructor.\n",
        "\n",
        "- The Car class extends the functionality by adding a doors attribute and the open_doors method."
      ],
      "metadata": {
        "id": "kqsvFKzthVMO"
      }
    },
    {
      "cell_type": "markdown",
      "source": [
        "**7.What is polymorphism in OOP?**\n",
        "- Polymorphism is one of the key concepts in Object-Oriented Programming (OOP). In simple terms, polymorphism allows objects of different classes to be treated as objects of a common base class. It enables the same method or operation to behave differently on different objects.\n",
        "\n",
        "- The term \"polymorphism\" comes from the Greek words poly (meaning \"many\") and morph (meaning \"form\" or \"shape\"), so it literally means \"many forms.\" In Python and OOP, polymorphism refers to the ability to call the same method on different objects, and each object can respond in a way that is specific to its class.\n",
        "\n",
        "Types of Polymorphism in Python:\n",
        "There are two main types of polymorphism in Python:\n",
        "\n",
        "- Method Overriding (Runtime Polymorphism): When a subclass provides a specific implementation of a method that is already defined in its superclass.\n",
        "- Method Overloading (Compile-time Polymorphism): Although Python doesn't directly support method overloading (as some other languages like Java or C++ do), it can achieve similar behavior using default arguments or variable-length argument lists."
      ],
      "metadata": {
        "id": "woeD1rGzhLv1"
      }
    },
    {
      "cell_type": "markdown",
      "source": [
        "**8. How is encapsulation achieved in Python?**\n",
        "- Encapsulation in Python is achieved through the use of classes and access control (like private and protected attributes), which bundle data (attributes) and methods (functions) into a single unit while controlling access to them.\n",
        "1. Using Access Modifiers\n",
        "- Python provides three levels of access control for attributes and methods:\n",
        "\n",
        " - Public: Accessible from anywhere. Default in Python.\n",
        "\n",
        " - Protected: Prefixed with a single underscore _. Meant to indicate that it's for internal use but still accessible if needed.\n",
        "\n",
        " - Private: Prefixed with double underscores __. Cannot be directly accessed outside the class."
      ],
      "metadata": {
        "id": "h4-XjPeWi3wx"
      }
    },
    {
      "cell_type": "code",
      "source": [
        "class BankAccount:\n",
        "    def __init__(self, account_number, balance):\n",
        "        self.account_number = account_number  # Public attribute\n",
        "        self._account_holder = \"Ravi\"     # Protected attribute\n",
        "        self.__balance = balance              # Private attribute\n",
        "\n",
        "    # Public method to get the balance\n",
        "    def get_balance(self):\n",
        "        return self.__balance\n",
        "\n",
        "    # Public method to modify the balance securely\n",
        "    def deposit(self, amount):\n",
        "        if amount > 0:\n",
        "            self.__balance += amount\n",
        "            return f\"Deposit successful. New balance: {self.__balance}\"\n",
        "        return \"Invalid deposit amount.\"\n",
        "\n",
        "    # Protected method (can be accessed by subclasses)\n",
        "    def _show_account_holder(self):\n",
        "        return f\"Account holder: {self._account_holder}\"\n",
        "\n",
        "# Create a BankAccount object\n",
        "account = BankAccount(123456789, 5000)\n",
        "print(account.get_balance())           # Access private attribute via a public method\n",
        "print(account.deposit(2000))           # Output: Deposit successful. New balance: 7000\n",
        "\n",
        "# Trying to access attributes directly\n",
        "print(account.account_number)          # Output: 123456789 (public attribute)\n",
        "print(account._account_holder)         # Output: Ravi (protected, accessible but discouraged)\n",
        "# print(account.__balance)             # AttributeError: 'BankAccount' object has no attribute '__balance'\n",
        "\n",
        "# Accessing private attribute indirectly via name mangling (not recommended)\n",
        "print(account._BankAccount__balance)   # Output: 7000\n"
      ],
      "metadata": {
        "colab": {
          "base_uri": "https://localhost:8080/"
        },
        "id": "gWdwu1MDhEIz",
        "outputId": "1b300283-8af7-4e99-c044-93eb2543e097"
      },
      "execution_count": null,
      "outputs": [
        {
          "output_type": "stream",
          "name": "stdout",
          "text": [
            "5000\n",
            "Deposit successful. New balance: 7000\n",
            "123456789\n",
            "Ravi\n",
            "7000\n"
          ]
        }
      ]
    },
    {
      "cell_type": "markdown",
      "source": [
        "Key Points\n",
        "1. Encapsulation through Private Attributes:\n",
        "\n",
        "- The __balance attribute is private and cannot be accessed directly outside the class.\n",
        "\n",
        "- Access is provided through the get_balance and deposit methods.\n",
        "\n",
        "2. Protected Attributes:\n",
        "\n",
        "- The _account_holder attribute is protected, meaning it’s intended for internal use or for subclasses but can still be accessed if absolutely necessary.\n",
        "\n",
        "3. Public Methods:\n",
        "\n",
        "- Methods like get_balance and deposit are public and provide controlled access to the private data.\n",
        "\n",
        "4. Name Mangling:\n",
        "\n",
        "- Python uses name mangling (e.g., __balance becomes _BankAccount__balance) to prevent accidental access to private attributes but allows advanced users to access them if necessary.\n",
        "\n",
        "**Why Encapsulation Matters**\n",
        "- Data Security: Sensitive data is protected from accidental modification.\n",
        "\n",
        "- Code Integrity: Prevents misuse or unintended changes to an object’s internal state.\n",
        "\n",
        "- Flexibility: Provides controlled access to the object's data through public methods."
      ],
      "metadata": {
        "id": "tIsGX6bOkYCh"
      }
    },
    {
      "cell_type": "markdown",
      "source": [
        " **9.What is a constructor in Python?**\n",
        " - A constructor in Python is a special method used to initialize an object when it is created. In Python, the constructor method is named __init__, which stands for \"initialize.\"\n",
        "\n",
        "Key Features of a Constructor:\n",
        "- Automatically Called: The constructor is automatically invoked when you create a new instance of a class.\n",
        "\n",
        "- Initialization: It is used to initialize the object's attributes with values or set up any necessary logic when the object is created.\n",
        "\n",
        "- Optional Parameters: The constructor can accept parameters to customize the object during creation."
      ],
      "metadata": {
        "id": "BD24H4ZUlK3m"
      }
    },
    {
      "cell_type": "code",
      "source": [
        "class Person:\n",
        "    def __init__(self, name, age):  # Constructor with two parameters\n",
        "        self.name = name  # Initializing the 'name' attribute\n",
        "        self.age = age    # Initializing the 'age' attribute\n",
        "\n",
        "    def display(self):\n",
        "        print(f\"Name: {self.name}, Age: {self.age}\")\n",
        "\n",
        "# Creating an object of the Person class\n",
        "person1 = Person(\"Ramesh\", 30)\n",
        "\n",
        "# Calling the display method\n",
        "person1.display()"
      ],
      "metadata": {
        "colab": {
          "base_uri": "https://localhost:8080/"
        },
        "id": "S62tuxeHkGBn",
        "outputId": "fa5e5bd9-08c6-4bb7-dd78-b527468fc2a6"
      },
      "execution_count": null,
      "outputs": [
        {
          "output_type": "stream",
          "name": "stdout",
          "text": [
            "Name: Ramesh, Age: 30\n"
          ]
        }
      ]
    },
    {
      "cell_type": "markdown",
      "source": [
        "**10.What are class and static methods in Python?**\n",
        "1. Class Method\n",
        "- A class method is a method that is bound to the class rather than an instance of the class. It is used to modify class state or create new instances of the class. The first parameter of a class method is cls, which refers to the class itself, rather than self, which refers to the instance.\n",
        "\n",
        "- Defined using @classmethod decorator.\n",
        "- Can modify class-level variables (not instance-level).\n",
        "- Can be called on the class itself or on an instance."
      ],
      "metadata": {
        "id": "JDh9q-MgqYd1"
      }
    },
    {
      "cell_type": "code",
      "source": [
        "class Person:\n",
        "    population = 0  # A class-level attribute\n",
        "\n",
        "    def __init__(self, name):\n",
        "        self.name = name\n",
        "        Person.population += 1  # Increment population when a new instance is created\n",
        "\n",
        "    @classmethod\n",
        "    def get_population(cls):\n",
        "        return cls.population  # Accesses the class-level attribute\n",
        "\n",
        "# Creating instances\n",
        "person1 = Person(\"Ramesh\")\n",
        "person2 = Person(\"Suresh\")\n",
        "\n",
        "# Calling the class method on the class itself\n",
        "print(Person.get_population())  # Output: 2\n",
        "\n",
        "# Calling the class method on an instance\n",
        "print(person1.get_population())  # Output: 2\n"
      ],
      "metadata": {
        "colab": {
          "base_uri": "https://localhost:8080/"
        },
        "id": "lNsCY-5MqOTv",
        "outputId": "e1d83c31-6189-40a7-b31e-875198eb8437"
      },
      "execution_count": null,
      "outputs": [
        {
          "output_type": "stream",
          "name": "stdout",
          "text": [
            "2\n",
            "2\n"
          ]
        }
      ]
    },
    {
      "cell_type": "markdown",
      "source": [
        "**In this example:**\n",
        "\n",
        "- get_population() is a class method because it accesses the class-level attribute population.\n",
        "- It can be called both on the class (Person.get_population()) and on an instance (person1.get_population())."
      ],
      "metadata": {
        "id": "hNQ8MYhKrkn1"
      }
    },
    {
      "cell_type": "markdown",
      "source": [
        "2. Static Method\n",
        "- A static method is a method that does not take self or cls as the first parameter. It is not bound to the class or instance, and it cannot modify the class state or instance state. Static methods are used when you want to define a method that logically belongs to the class but doesn’t need access to its attributes or other methods.\n",
        "\n",
        "- Defined using @staticmethod decorator.\n",
        "- Doesn’t take self or cls as its first parameter.\n",
        "- Cannot modify the class state or instance state.\n",
        "- Can be called on the class or an instance, but it doesn't rely on either."
      ],
      "metadata": {
        "id": "NWrRiXaBr8mO"
      }
    },
    {
      "cell_type": "code",
      "source": [
        "class MathUtility:\n",
        "    @staticmethod\n",
        "    def add(a, b):\n",
        "        return a + b\n",
        "\n",
        "    @staticmethod\n",
        "    def multiply(a, b):\n",
        "        return a * b\n",
        "\n",
        "# Calling static methods without creating an instance\n",
        "print(MathUtility.add(5, 3))        # Output: 8\n",
        "print(MathUtility.multiply(5, 3))   # Output: 15\n"
      ],
      "metadata": {
        "colab": {
          "base_uri": "https://localhost:8080/"
        },
        "id": "MuF8V-plrdxK",
        "outputId": "3b79453f-5c2f-49cc-e018-d01a6d1af8fe"
      },
      "execution_count": null,
      "outputs": [
        {
          "output_type": "stream",
          "name": "stdout",
          "text": [
            "8\n",
            "15\n"
          ]
        }
      ]
    },
    {
      "cell_type": "markdown",
      "source": [
        "in this example:\n",
        "\n",
        "- add() and multiply() are static methods. They don’t depend on instance data (self) or class data (cls).\n",
        "- You can call them on the class itself (MathUtility.add(5, 3)) without needing an instance."
      ],
      "metadata": {
        "id": "yArXg32OtO_O"
      }
    },
    {
      "cell_type": "markdown",
      "source": [
        "**11.  What is method overloading in Python**\n",
        "- Method overloading in Python allows a class to define multiple methods with the same name but differing in the number or type of parameters. It enables the same method name to behave differently based on the arguments passed.\n",
        "\n",
        "- In Python, method overloading isn't explicitly supported like in some other programming languages (e.g., Java or C++). Instead, Python achieves it through default arguments and variable-length argument lists (*args and **kwargs), which allow a single method to handle a variety of input cases."
      ],
      "metadata": {
        "id": "nMiNir1ytVCx"
      }
    },
    {
      "cell_type": "code",
      "source": [
        "class Calculator:\n",
        "    def add(self, a, b=0):\n",
        "        return a + b\n",
        "\n",
        "calc = Calculator()\n",
        "print(calc.add(5))       # Calls add with one argument, b defaults to 0\n",
        "print(calc.add(5, 10))   # Calls add with two arguments\n"
      ],
      "metadata": {
        "colab": {
          "base_uri": "https://localhost:8080/"
        },
        "id": "FeesdK5SsLc5",
        "outputId": "99566791-6c07-4b60-bf8d-b3591a096ddf"
      },
      "execution_count": null,
      "outputs": [
        {
          "output_type": "stream",
          "name": "stdout",
          "text": [
            "5\n",
            "15\n"
          ]
        }
      ]
    },
    {
      "cell_type": "markdown",
      "source": [
        "**12.What is method overriding in OOP ?**\n",
        "- Method overriding in Object-Oriented Programming (OOP) allows a subclass to provide a specific implementation for a method that is already defined in its parent class. In Python, this is accomplished by defining a method in the child class with the same name, parameters, and signature as the method in the parent class. This allows the child class to modify or extend the behavior of the inherited method."
      ],
      "metadata": {
        "id": "0tdXsFYWuFLP"
      }
    },
    {
      "cell_type": "code",
      "source": [
        "class Animal:\n",
        "    def speak(self):\n",
        "        return \"I make a sound\"\n",
        "\n",
        "class Dog(Animal):\n",
        "    def speak(self):\n",
        "        return \"Woof! Woof!\"\n",
        "\n",
        "# Example usage\n",
        "animal = Animal()\n",
        "dog = Dog()\n",
        "\n",
        "print(animal.speak())  # Output: I make a sound\n",
        "print(dog.speak())     # Output: Woof! Woof!\n"
      ],
      "metadata": {
        "id": "lZ2FVhAdt-Df"
      },
      "execution_count": null,
      "outputs": []
    },
    {
      "cell_type": "markdown",
      "source": [
        "In this example:\n",
        "\n",
        "- The Animal class has a speak method.\n",
        "\n",
        "- The Dog class inherits from Animal and overrides the speak method to provide its own implementation.\n",
        "\n",
        "- Method overriding is useful when a subclass needs to define behavior specific to its context while still being part of a broader, shared framework."
      ],
      "metadata": {
        "id": "qhM1AOFsukde"
      }
    },
    {
      "cell_type": "markdown",
      "source": [
        "**13.What is a property decorator in Python?**\n",
        "- The @property decorator in Python is a built-in feature that allows you to define methods in a class that can be accessed like attributes. This is particularly useful for implementing getter methods to encapsulate and control access to instance variables, while maintaining a clean, readable syntax.\n",
        "\n",
        "- When using the @property decorator, you can turn a method into a \"computed attribute.\""
      ],
      "metadata": {
        "id": "nusfkZzPupzc"
      }
    },
    {
      "cell_type": "code",
      "source": [
        "class Circle:\n",
        "    def __init__(self, radius):\n",
        "        self._radius = radius\n",
        "\n",
        "    @property\n",
        "    def radius(self):\n",
        "        return self._radius\n",
        "\n",
        "    @radius.setter\n",
        "    def radius(self, value):\n",
        "        if value >= 0:\n",
        "            self._radius = value\n",
        "        else:\n",
        "            raise ValueError(\"Radius cannot be negative\")\n",
        "\n",
        "    @property\n",
        "    def area(self):\n",
        "        return 3.1416 * (self._radius ** 2)\n",
        "\n",
        "# Example usage\n",
        "circle = Circle(5)\n",
        "print(circle.radius)  # Output: 5\n",
        "print(circle.area)    # Output: 78.54 (computed)\n",
        "\n",
        "circle.radius = 10\n",
        "print(circle.area)    # Output: 314.16\n"
      ],
      "metadata": {
        "colab": {
          "base_uri": "https://localhost:8080/"
        },
        "id": "eCo26en9vY79",
        "outputId": "455cb9e8-ccaf-4985-b7c7-675972784f2a"
      },
      "execution_count": null,
      "outputs": [
        {
          "output_type": "stream",
          "name": "stdout",
          "text": [
            "5\n",
            "78.53999999999999\n",
            "314.15999999999997\n"
          ]
        }
      ]
    },
    {
      "cell_type": "markdown",
      "source": [
        "Key points to note:\n",
        "- Getter Method: The @property decorator allows you to access the radius and area like attributes (circle.radius, circle.area) instead of calling them like methods.\n",
        "\n",
        "- Setter Method: You can use the @<property>.setter decorator (e.g., @radius.setter) to define how to set or update a property, ensuring that data is validated or transformed as needed.\n",
        "\n",
        "- Read-only Property: If you don't define a setter, the property becomes read-only."
      ],
      "metadata": {
        "id": "-gyEmF0Mve8J"
      }
    },
    {
      "cell_type": "markdown",
      "source": [
        "**14. Why is polymorphism important in OOP?**\n",
        "- Polymorphism is a cornerstone of Object-Oriented Programming (OOP) because it enhances flexibility, maintainability, and scalability in code. Here's why it’s important:\n",
        "\n",
        "  - Code Reusability: Polymorphism allows one interface to be used for a general class of actions. For example, a single function name can work with different types of data, reducing redundancy and making the code cleaner.\n",
        "\n",
        "  - Extensibility: When new classes are introduced, polymorphism enables those classes to integrate seamlessly with existing code. For instance, if you have a method that processes a parent class, it can also work with all subclasses without modification.\n",
        "\n",
        "  - Dynamic Behavior: Through runtime polymorphism (like method overriding), objects can exhibit different behaviors depending on their runtime type. This is crucial for designing systems that are adaptable and responsive to various situations.\n",
        "\n",
        "  - Ease of Maintenance: Polymorphism simplifies code changes. If a class’s functionality needs to change, its specific implementation can be updated without affecting the code that uses it."
      ],
      "metadata": {
        "id": "szE2TgbPvjML"
      }
    },
    {
      "cell_type": "markdown",
      "source": [
        "**15.What is an abstract class in Python?**\n",
        "- An abstract class in Python is a class that serves as a blueprint for other classes. It cannot be instantiated directly and typically includes one or more abstract methods, which must be implemented by its subclasses. Abstract classes are defined using the ABC (Abstract Base Class) module in the abc library.\n",
        "\n",
        "Here’s what makes them special:\n",
        "\n",
        " - Definition: An abstract class is created by subclassing ABC. Abstract methods are defined with the @abstractmethod decorator.\n",
        "\n",
        " - Purpose: They are used to enforce a contract or common structure among all subclasses. This is especially useful in complex systems where consistency across related classes is necessary."
      ],
      "metadata": {
        "id": "i6ax4khL2ZaK"
      }
    },
    {
      "cell_type": "code",
      "source": [
        "from abc import ABC, abstractmethod\n",
        "\n",
        "class Animal(ABC):  # Abstract class\n",
        "    @abstractmethod\n",
        "    def sound(self):\n",
        "        pass  # Abstract method, no implementation\n",
        "\n",
        "class Dog(Animal):\n",
        "    def sound(self):\n",
        "        return \"Woof!\"\n",
        "\n",
        "class Cat(Animal):\n",
        "    def sound(self):\n",
        "        return \"Meow!\"\n",
        "\n",
        "# Usage\n",
        "dog = Dog()\n",
        "cat = Cat()\n",
        "print(dog.sound())  # Outputs: Woof!\n",
        "print(cat.sound())  # Outputs: Meow!\n"
      ],
      "metadata": {
        "id": "53nJak6mvZ1G",
        "colab": {
          "base_uri": "https://localhost:8080/"
        },
        "outputId": "96ce77c4-1d2f-4611-c120-2f9500406427"
      },
      "execution_count": null,
      "outputs": [
        {
          "output_type": "stream",
          "name": "stdout",
          "text": [
            "Woof!\n",
            "Meow!\n"
          ]
        }
      ]
    },
    {
      "cell_type": "markdown",
      "source": [
        "**16.What are the advantages of OOP?**\n",
        "\n",
        "Object-Oriented Programming (OOP) offers several advantages, making it a popular programming paradigm for building complex and scalable systems. Here are its key benefits:\n",
        "\n",
        "- Modularity: OOP organizes code into classes and objects, making it easier to understand, manage, and modify. Changes in one part of the program typically don't affect the rest.\n",
        "\n",
        "- Code Reusability: Through features like inheritance, OOP allows you to reuse existing code for new functionalities. This reduces development time and effort.\n",
        "\n",
        "- Scalability: OOP is designed to handle complexity. It allows developers to build scalable programs that can grow without becoming unmanageable.\n",
        "\n",
        "- Encapsulation: By bundling data and methods together, OOP ensures that objects manage their own state, reducing the risk of unintended interference. This leads to more secure and reliable code.\n",
        "\n",
        "- Extensibility: OOP supports polymorphism and dynamic binding, making it easy to extend programs without rewriting existing code.\n",
        "\n",
        "- Easy Maintenance: OOP-based programs are structured in a way that makes troubleshooting and maintenance much simpler. Bugs can often be fixed by isolating the affected class or object.\n",
        "\n",
        "- Real-world Mapping: OOP mirrors the real world by modeling data as objects with attributes and behaviors. This makes program design more intuitive and relatable."
      ],
      "metadata": {
        "id": "CFgILxf_Dpfh"
      }
    },
    {
      "cell_type": "markdown",
      "source": [
        "**17.What is the difference between a class variable and an instance variable**\n",
        "\n",
        "1. **Class Variable:**\n",
        "- Definition: A class variable is shared across all instances of a class. It's associated with the class itself, not any specific object.\n",
        "\n",
        "- Scope: Declared directly in the class but outside of any instance method.\n",
        "\n",
        "- Access: It can be accessed using the class name (e.g., ClassName.variable) or through any instance of the class.\n",
        "\n",
        "- Shared: Changes to a class variable by one instance reflect in all instances, as there is only one copy.\n"
      ],
      "metadata": {
        "id": "cWREU-OpEvPT"
      }
    },
    {
      "cell_type": "code",
      "source": [
        "class MyClass:\n",
        "    class_variable = 42  # Class variable\n",
        "\n",
        "# Access through class name\n",
        "print(MyClass.class_variable)  # Outputs: 42\n",
        "\n",
        "# Access through an instance\n",
        "obj1 = MyClass()\n",
        "obj2 = MyClass()\n",
        "obj1.class_variable = 100\n",
        "print(obj2.class_variable)  # Still: 42 (unless updated directly)\n"
      ],
      "metadata": {
        "id": "Lh6UakU9B-IA",
        "colab": {
          "base_uri": "https://localhost:8080/"
        },
        "outputId": "323310f0-0293-479f-c7c9-122b724f239a"
      },
      "execution_count": null,
      "outputs": [
        {
          "output_type": "stream",
          "name": "stdout",
          "text": [
            "42\n",
            "42\n"
          ]
        }
      ]
    },
    {
      "cell_type": "code",
      "source": [],
      "metadata": {
        "id": "nF8uWPxW_efm"
      },
      "execution_count": null,
      "outputs": []
    },
    {
      "cell_type": "markdown",
      "source": [
        "2. **Instance Variable:**\n",
        "- Definition: An instance variable is unique to each object/instance of a class. It's stored in the instance's own memory.\n",
        "\n",
        "- Scope: Declared inside instance methods (typically in __init__ for Python) and prefixed with self to indicate it belongs to the specific instance.\n",
        "\n",
        "- Access: Only accessible through the instance it was created for.\n",
        "\n",
        "- Unique: Each instance maintains its own copy, so changing one instance’s variable does not affect another's."
      ],
      "metadata": {
        "id": "FrXyyjOm_fpA"
      }
    },
    {
      "cell_type": "code",
      "source": [
        "class MyClass:\n",
        "    def __init__(self, value):\n",
        "        self.instance_variable = value  # Instance variable\n",
        "\n",
        "# Create two instances\n",
        "obj1 = MyClass(10)\n",
        "obj2 = MyClass(20)\n",
        "\n",
        "print(obj1.instance_variable)  # Outputs: 10\n",
        "print(obj2.instance_variable)  # Outputs: 20\n"
      ],
      "metadata": {
        "colab": {
          "base_uri": "https://localhost:8080/"
        },
        "id": "Oi1xM9ukAMd7",
        "outputId": "1de46fce-896a-4dbc-ec02-450849cb85a5"
      },
      "execution_count": null,
      "outputs": [
        {
          "output_type": "stream",
          "name": "stdout",
          "text": [
            "10\n",
            "20\n"
          ]
        }
      ]
    },
    {
      "cell_type": "markdown",
      "source": [
        "**18.What is multiple inheritance in Python?**\n",
        "- Multiple inheritance in Python refers to a feature where a class can inherit attributes and methods from more than one parent class. This allows a child class to combine functionalities from multiple classes, making it a versatile and powerful object-oriented programming concept.\n",
        "\n",
        "How It Works:\n",
        "- A class can list multiple parent classes in its definition, separated by commas.\n",
        "\n",
        "- The child class will inherit all the properties and methods from the parent classes.\n"
      ],
      "metadata": {
        "id": "N5OaIOa5AQHt"
      }
    },
    {
      "cell_type": "code",
      "source": [
        "class Parent1:\n",
        "    def greet(self):\n",
        "        print(\"Hello from Parent1!\")\n",
        "\n",
        "class Parent2:\n",
        "    def farewell(self):\n",
        "        print(\"Goodbye from Parent2!\")\n",
        "\n",
        "class Child(Parent1, Parent2):\n",
        "    pass\n",
        "\n",
        "# Create an instance of the Child class\n",
        "child_instance = Child()\n",
        "child_instance.greet()       # Outputs: Hello from Parent1!\n",
        "child_instance.farewell()    # Outputs: Goodbye from Parent2!\n"
      ],
      "metadata": {
        "colab": {
          "base_uri": "https://localhost:8080/"
        },
        "id": "a2B6Du1cANKb",
        "outputId": "8f5eac03-343a-4491-91ab-6c09b9b8d413"
      },
      "execution_count": null,
      "outputs": [
        {
          "output_type": "stream",
          "name": "stdout",
          "text": [
            "Hello from Parent1!\n",
            "Goodbye from Parent2!\n"
          ]
        }
      ]
    },
    {
      "cell_type": "markdown",
      "source": [
        "**19.Explain the purpose of ______str__ and ______repr__ methods in Python**\n",
        "- In Python, the ______str__ and ______repr__ methods are special (or \"magic\") methods that allow you to define how objects of a class are represented as strings. They serve slightly different purposes:\n",
        "1. ______str__ (for End Users):\n",
        "  - Purpose: The ______str__ method is meant to provide a \"pretty\" or user-friendly string representation of the object, which is easier to read and understand.\n",
        "\n",
        "  - Audience: It is aimed at end users.\n",
        "\n",
        "  - Fallback: If ______str__is not defined, calling str(obj) will use the ______repr__ method as a fallback."
      ],
      "metadata": {
        "id": "PesXsE-BAnz8"
      }
    },
    {
      "cell_type": "code",
      "source": [
        "class Example:\n",
        "    def __str__(self):\n",
        "        return \"This is an example object.\"\n",
        "\n",
        "obj = Example()\n",
        "print(str(obj))  # Outputs: This is an example object.\n"
      ],
      "metadata": {
        "colab": {
          "base_uri": "https://localhost:8080/"
        },
        "id": "8dC6dACvAkG9",
        "outputId": "c3018e9b-7c5b-49e0-8c05-2f4cb0cb8823"
      },
      "execution_count": null,
      "outputs": [
        {
          "output_type": "stream",
          "name": "stdout",
          "text": [
            "This is an example object.\n"
          ]
        }
      ]
    },
    {
      "cell_type": "markdown",
      "source": [
        "2. ______repr__ (for Developers):\n",
        "- Purpose: The ______repr__ method is meant to provide a string representation of an object that is unambiguous and ideally could be used to recreate the object.\n",
        "\n",
        "- Audience: It is aimed at developers for debugging and logging purposes.\n",
        "\n",
        "- Fallback: If ______str__ is not defined, calling str(obj) will use the ______repr__ method as a fallback."
      ],
      "metadata": {
        "id": "KwEhv4nsC04l"
      }
    },
    {
      "cell_type": "code",
      "source": [
        "class Example:\n",
        "    def __repr__(self):\n",
        "        return \"Example()\"\n",
        "\n",
        "obj = Example()\n",
        "print(repr(obj))  # Outputs: Example()\n"
      ],
      "metadata": {
        "colab": {
          "base_uri": "https://localhost:8080/"
        },
        "id": "UMDr_SAFCz4R",
        "outputId": "b40e6b78-8878-4f88-8bff-4b266d2d1d0a"
      },
      "execution_count": null,
      "outputs": [
        {
          "output_type": "stream",
          "name": "stdout",
          "text": [
            "Example()\n"
          ]
        }
      ]
    },
    {
      "cell_type": "markdown",
      "source": [
        "**20. What is the significance of the ‘super()’ function in Python?**\n",
        "\n",
        "The super() function in Python is a powerful tool used to provide access to methods and properties of a parent (or superclass) from a child (or subclass). It is particularly significant in object-oriented programming as it simplifies the process of working with inheritance and helps avoid redundancy or errors.\n",
        "\n",
        "Key Features of super()\n",
        "- Call Parent Methods:\n",
        "\n",
        "  - It allows you to call a method from the parent class in a child class, ensuring that the parent class's functionality is not overridden unintentionally.\n",
        "\n",
        "- Supports Multiple Inheritance:\n",
        "\n",
        "  - When used in a class with multiple inheritance, super() helps in following the Method Resolution Order (MRO) to call methods in the correct order, avoiding potential confusion or conflicts.\n",
        "\n",
        "- Dynamic:\n",
        "\n",
        "  - The super() function is dynamic—it automatically adjusts to the inheritance structure of the class where it is used, even if the class hierarchy changes."
      ],
      "metadata": {
        "id": "qjNH31jqDNfg"
      }
    },
    {
      "cell_type": "code",
      "source": [
        "class Parent:\n",
        "    def greet(self):\n",
        "        print(\"Hello from Parent!\")\n",
        "\n",
        "class Child(Parent):\n",
        "    def greet(self):\n",
        "        super().greet()  # Call the parent class's method\n",
        "        print(\"Hello from Child!\")\n",
        "\n",
        "obj = Child()\n",
        "obj.greet()\n"
      ],
      "metadata": {
        "colab": {
          "base_uri": "https://localhost:8080/"
        },
        "id": "RnsaviyeDMmU",
        "outputId": "56cbcf1c-aad0-4f81-b4d6-c13ebd31f14c"
      },
      "execution_count": null,
      "outputs": [
        {
          "output_type": "stream",
          "name": "stdout",
          "text": [
            "Hello from Parent!\n",
            "Hello from Child!\n"
          ]
        }
      ]
    },
    {
      "cell_type": "markdown",
      "source": [
        "**21.What is the significance of the ______del__ method in Python?**\n",
        "\n",
        "- The ______del__ method in Python is a special method, also known as the destructor method. Its primary purpose is to define cleanup logic that runs when an object is about to be destroyed, i.e., when it is no longer in use and is about to be removed from memory by Python's garbage collector.\n",
        "\n",
        "**Key Points About ______del__:**\n",
        "- Resource Management:\n",
        "\n",
        " - The ______del__method is often used to release external resources like file handles, database connections, or network sockets that an object may have acquired during its lifetime.\n",
        "\n",
        "- Automatic Invocation:\n",
        "\n",
        "  - Python calls the ______del__ method automatically when an object is garbage collected. However, this does not guarantee the exact timing of its execution, as garbage collection in Python is non-deterministic.\n"
      ],
      "metadata": {
        "id": "TKxhdopaEwNH"
      }
    },
    {
      "cell_type": "code",
      "source": [
        "class Demo:\n",
        "    def __init__(self, name):\n",
        "        self.name = name\n",
        "        print(f\"Object {self.name} created.\")\n",
        "\n",
        "    def __del__(self):\n",
        "        print(f\"Object {self.name} is being destroyed.\")\n",
        "\n",
        "# Creating an object\n",
        "obj = Demo(\"A\")\n",
        "\n",
        "# Deleting the object\n",
        "del obj  # Outputs: \"Object A is being destroyed.\"\n"
      ],
      "metadata": {
        "colab": {
          "base_uri": "https://localhost:8080/"
        },
        "id": "S4UUHuHnEn7R",
        "outputId": "b6ded20a-6900-4a25-a302-5cec2079f062"
      },
      "execution_count": null,
      "outputs": [
        {
          "output_type": "stream",
          "name": "stdout",
          "text": [
            "Object A created.\n",
            "Object A is being destroyed.\n"
          ]
        }
      ]
    },
    {
      "cell_type": "markdown",
      "source": [
        "**22.What is the difference between @staticmethod and @classmethod in Python?**\n",
        "\n",
        "@staticmethod\n",
        "- Definition: A @staticmethod is a method that does not require access to the class or its instances. It behaves like a regular function but is part of a class's namespace.\n",
        "\n",
        "- Access: It does not take any implicit first argument (neither self nor cls). It cannot access or modify class-level or instance-level data directly.\n",
        "\n",
        "- Use Case: Useful when you want a method that logically belongs to a class but doesn’t need to interact with the class or instances. Think of it as a utility function for the class\n"
      ],
      "metadata": {
        "id": "eITX7-8wFetj"
      }
    },
    {
      "cell_type": "code",
      "source": [
        "class MyClass:\n",
        "    @staticmethod\n",
        "    def static_method():\n",
        "        print(\"This is a static method. No access to class or instance.\")\n",
        "\n",
        "# Calling the static method\n",
        "MyClass.static_method()  # Outputs: This is a static method.\n"
      ],
      "metadata": {
        "colab": {
          "base_uri": "https://localhost:8080/"
        },
        "id": "0GJeLgHuFdop",
        "outputId": "0dcf4739-4caf-485b-e323-703766270b28"
      },
      "execution_count": null,
      "outputs": [
        {
          "output_type": "stream",
          "name": "stdout",
          "text": [
            "This is a static method. No access to class or instance.\n"
          ]
        }
      ]
    },
    {
      "cell_type": "markdown",
      "source": [
        "@classmethod\n",
        "- Definition: A @classmethod is a method that receives the class itself (cls) as its first argument. It can access or modify class-level data but not instance-specific data.\n",
        "\n",
        "- Access: It takes cls as the first parameter, allowing it to interact with the class and its properties.\n",
        "\n",
        "- Use Case: Useful for factory methods or when you need to work with class-level information."
      ],
      "metadata": {
        "id": "7TWRCUK9F_CS"
      }
    },
    {
      "cell_type": "code",
      "source": [
        "class MyClass:\n",
        "    class_variable = \"Hello\"\n",
        "\n",
        "    @classmethod\n",
        "    def class_method(cls):\n",
        "        print(f\"This is a class method. Class variable: {cls.class_variable}\")\n",
        "\n",
        "# Calling the class method\n",
        "MyClass.class_method()  # Outputs: This is a class method. Class variable: Hello\n"
      ],
      "metadata": {
        "colab": {
          "base_uri": "https://localhost:8080/"
        },
        "id": "d7s-JkbpF552",
        "outputId": "f49246a3-084c-4415-b0d6-965f4305aa25"
      },
      "execution_count": null,
      "outputs": [
        {
          "output_type": "stream",
          "name": "stdout",
          "text": [
            "This is a class method. Class variable: Hello\n"
          ]
        }
      ]
    },
    {
      "cell_type": "markdown",
      "source": [
        "**23.How does polymorphism work in Python with inheritance?**\n",
        "\n",
        "- Definition:\n",
        "\n",
        "  - The term \"polymorphism\" means \"many forms.\" In Python, it allows methods in different classes to have the same name but potentially different implementations. The method that gets called depends on the object type.\n",
        "\n",
        "- Dynamic Method Resolution:\n",
        "\n",
        "  - Python dynamically determines which method to call at runtime, based on the object's class.\n",
        "\n",
        "- Used with Inheritance:\n",
        "\n",
        "  - When a child class inherits a parent class, it can override methods of the parent class. Polymorphism ensures that the correct overridden method is called, even when working with a reference to the parent class."
      ],
      "metadata": {
        "id": "BwR0nI1xGHUK"
      }
    },
    {
      "cell_type": "code",
      "source": [
        "class Animal:\n",
        "    def sound(self):\n",
        "        return \"Some generic animal sound\"\n",
        "\n",
        "class Dog(Animal):\n",
        "    def sound(self):\n",
        "        return \"Woof!\"\n",
        "\n",
        "class Cat(Animal):\n",
        "    def sound(self):\n",
        "        return \"Meow!\"\n",
        "\n",
        "# Using polymorphism\n",
        "def make_sound(animal):\n",
        "    print(animal.sound())\n",
        "\n",
        "# Instances of different classes\n",
        "dog = Dog()\n",
        "cat = Cat()\n",
        "animal = Animal()\n",
        "\n",
        "make_sound(dog)     # Outputs: Woof!\n",
        "make_sound(cat)     # Outputs: Meow!\n",
        "make_sound(animal)  # Outputs: Some generic animal sound\n"
      ],
      "metadata": {
        "colab": {
          "base_uri": "https://localhost:8080/"
        },
        "id": "DMMpDtZ1GGwg",
        "outputId": "c25abc20-6482-49c1-9d7f-ccb638999f61"
      },
      "execution_count": null,
      "outputs": [
        {
          "output_type": "stream",
          "name": "stdout",
          "text": [
            "Woof!\n",
            "Meow!\n",
            "Some generic animal sound\n"
          ]
        }
      ]
    },
    {
      "cell_type": "markdown",
      "source": [
        "**24.What is method chaining in Python OOP**?\n",
        "\n",
        "To enable method chaining:\n",
        "\n",
        "- Each method must return self, which is the instance of the current object.\n",
        "\n",
        "- This allows the next method in the chain to be executed on the same object."
      ],
      "metadata": {
        "id": "Esnd1WvBT2Nu"
      }
    },
    {
      "cell_type": "code",
      "source": [
        "class Example:\n",
        "    def __init__(self):\n",
        "        self.value = 0\n",
        "\n",
        "    def increment(self, amount):\n",
        "        self.value += amount\n",
        "        return self  # Returns the instance\n",
        "\n",
        "    def double(self):\n",
        "        self.value *= 2\n",
        "        return self  # Returns the instance\n",
        "\n",
        "    def display(self):\n",
        "        print(f\"Value: {self.value}\")\n",
        "        return self  # Returns the instance\n",
        "\n",
        "# Method chaining\n",
        "obj = Example()\n",
        "obj.increment(5).double().display()\n"
      ],
      "metadata": {
        "colab": {
          "base_uri": "https://localhost:8080/"
        },
        "id": "OBnOAgaxTwCv",
        "outputId": "f2cccbcd-a384-4b11-b300-6c5821ba26f5"
      },
      "execution_count": null,
      "outputs": [
        {
          "output_type": "stream",
          "name": "stdout",
          "text": [
            "Value: 10\n"
          ]
        },
        {
          "output_type": "execute_result",
          "data": {
            "text/plain": [
              "<__main__.Example at 0x7f3124b32010>"
            ]
          },
          "metadata": {},
          "execution_count": 11
        }
      ]
    },
    {
      "cell_type": "markdown",
      "source": [
        "Explanation:\n",
        "\n",
        "- obj.increment(5) increases the value by 5 and returns the obj instance.\n",
        "\n",
        "- .double() multiplies the value by 2 and also returns the obj instance.\n",
        "\n",
        "- .display() prints the value and again returns the obj instance, allowing the chain to continue if needed."
      ],
      "metadata": {
        "id": "t-c8nSFfUj_F"
      }
    },
    {
      "cell_type": "markdown",
      "source": [
        "25.What is the purpose of the  ______call__ method in Python?\n",
        "\n",
        "The ______call__ method in Python is a special (or magic) method that allows an instance of a class to behave like a function. This means you can \"call\" an object of a class as if it were a regular function, by using parentheses ()\n",
        "\n",
        "Purpose of __call__\n",
        "\n",
        "- Make an Object Callable:\n",
        "\n",
        "It allows instances of a class to be invoked as functions, effectively making them callable objects.\n",
        "\n",
        "- Encapsulate Functionality:\n",
        "\n",
        "You can use __call__ to encapsulate some functionality within an object, which can be reused as a callable entity.\n",
        "\n",
        "- Enhanced Customization:\n",
        "\n",
        "It offers a flexible way to add behaviors to objects, beyond just using methods."
      ],
      "metadata": {
        "id": "ix6Y6iHIUqev"
      }
    },
    {
      "cell_type": "code",
      "source": [
        "class Multiplier:\n",
        "    def __init__(self, factor):\n",
        "        self.factor = factor\n",
        "\n",
        "    def __call__(self, value):\n",
        "        return value * self.factor\n",
        "\n",
        "# Create an instance\n",
        "double = Multiplier(2)\n",
        "triple = Multiplier(3)\n",
        "\n",
        "# Use the instance like a function\n",
        "print(double(5))  # Outputs: 10\n",
        "print(triple(5))  # Outputs: 15\n"
      ],
      "metadata": {
        "colab": {
          "base_uri": "https://localhost:8080/"
        },
        "id": "pSvWYLtKUdmM",
        "outputId": "3d96ec7e-5fae-43e8-cff3-69986c97ee94"
      },
      "execution_count": null,
      "outputs": [
        {
          "output_type": "stream",
          "name": "stdout",
          "text": [
            "10\n",
            "15\n"
          ]
        }
      ]
    },
    {
      "cell_type": "markdown",
      "source": [
        "# **Practical Questions**"
      ],
      "metadata": {
        "id": "U4-FrDMUVQ_j"
      }
    },
    {
      "cell_type": "markdown",
      "source": [
        " **1. Create a parent class Animal with a method speak() that prints a generic message. Create a child class Dog that overrides the speak() method to print \"Bark!**\""
      ],
      "metadata": {
        "id": "O4W41rxmVV37"
      }
    },
    {
      "cell_type": "code",
      "source": [
        "# Parent class\n",
        "class Animal:\n",
        "    def speak(self):\n",
        "        print(\"The animal makes a sound.\")\n",
        "\n",
        "# Child class\n",
        "class Dog(Animal):\n",
        "    def speak(self):\n",
        "        print(\"Bark!\")\n",
        "\n",
        "# Creating instances and calling the speak method\n",
        "animal = Animal()\n",
        "dog = Dog()\n",
        "\n",
        "animal.speak()  # Outputs: The animal makes a sound.\n",
        "dog.speak()     # Outputs: Bark!\n"
      ],
      "metadata": {
        "colab": {
          "base_uri": "https://localhost:8080/"
        },
        "id": "_UmJiXpFVyIQ",
        "outputId": "61f8cfe5-ffb0-4937-f0ff-0804442d7ef9"
      },
      "execution_count": null,
      "outputs": [
        {
          "output_type": "stream",
          "name": "stdout",
          "text": [
            "The animal makes a sound.\n",
            "Bark!\n"
          ]
        }
      ]
    },
    {
      "cell_type": "markdown",
      "source": [
        "**2. Write a program to create an abstract class Shape with a method area(). Derive classes Circle and Rectangle from it and implement the area() method in both.**"
      ],
      "metadata": {
        "id": "5yWF-bKFW0Yw"
      }
    },
    {
      "cell_type": "code",
      "source": [
        "from abc import ABC, abstractmethod\n",
        "\n",
        "# Abstract class\n",
        "class Shape(ABC):\n",
        "    @abstractmethod\n",
        "    def area(self):\n",
        "        pass\n",
        "\n",
        "# Circle class inheriting from Shape\n",
        "class Circle(Shape):\n",
        "    def __init__(self, radius):\n",
        "        self.radius = radius\n",
        "\n",
        "    def area(self):\n",
        "        return 3.14 * self.radius * self.radius  # Area formula for a circle\n",
        "\n",
        "# Rectangle class inheriting from Shape\n",
        "class Rectangle(Shape):\n",
        "    def __init__(self, length, breadth):\n",
        "        self.length = length\n",
        "        self.breadth = breadth\n",
        "\n",
        "    def area(self):\n",
        "        return self.length * self.breadth  # Area formula for a rectangle\n",
        "\n",
        "# Creating instances of Circle and Rectangle\n",
        "circle = Circle(5)  # Circle with radius 5\n",
        "rectangle = Rectangle(4, 6)  # Rectangle with length 4 and breadth 6\n",
        "\n",
        "# Calculating and displaying their areas\n",
        "print(f\"Circle area: {circle.area()}\")       # Outputs: Circle area: 78.5\n",
        "print(f\"Rectangle area: {rectangle.area()}\") # Outputs: Rectangle area: 24\n"
      ],
      "metadata": {
        "colab": {
          "base_uri": "https://localhost:8080/"
        },
        "id": "ovJ-WIO5VNGT",
        "outputId": "a58659c5-1213-4d39-cc2e-12e426d114af"
      },
      "execution_count": null,
      "outputs": [
        {
          "output_type": "stream",
          "name": "stdout",
          "text": [
            "Circle area: 78.5\n",
            "Rectangle area: 24\n"
          ]
        }
      ]
    },
    {
      "cell_type": "markdown",
      "source": [
        "**3. Implement a multi-level inheritance scenario where a class Vehicle has an attribute type. Derive a class Car and further derive a class ElectricCar that adds a battery attribute.**"
      ],
      "metadata": {
        "id": "4Jdadeu-W_YC"
      }
    },
    {
      "cell_type": "code",
      "source": [
        "# Base class\n",
        "class Vehicle:\n",
        "    def __init__(self, vehicle_type):\n",
        "        self.vehicle_type = vehicle_type\n",
        "\n",
        "    def display_type(self):\n",
        "        print(f\"Vehicle Type: {self.vehicle_type}\")\n",
        "\n",
        "# Derived class\n",
        "class Car(Vehicle):\n",
        "    def __init__(self, vehicle_type, brand):\n",
        "        super().__init__(vehicle_type)  # Call the parent class constructor\n",
        "        self.brand = brand\n",
        "\n",
        "    def display_car_details(self):\n",
        "        print(f\"Car Brand: {self.brand}\")\n",
        "\n",
        "# Further derived class\n",
        "class ElectricCar(Car):\n",
        "    def __init__(self, vehicle_type, brand, battery_capacity):\n",
        "        super().__init__(vehicle_type, brand)  # Call the parent class constructor\n",
        "        self.battery_capacity = battery_capacity\n",
        "\n",
        "    def display_electric_car_details(self):\n",
        "        print(f\"Battery Capacity: {self.battery_capacity} kWh\")\n",
        "\n",
        "# Creating an instance of ElectricCar\n",
        "my_electric_car = ElectricCar(\"Electric Vehicle\", \"Tesla\", 75)\n",
        "\n",
        "# Accessing attributes and methods\n",
        "my_electric_car.display_type()"
      ],
      "metadata": {
        "colab": {
          "base_uri": "https://localhost:8080/"
        },
        "id": "lgn4bqJzW6Fl",
        "outputId": "2943697b-7ac8-4ed4-d9e5-8c9f87c41e36"
      },
      "execution_count": null,
      "outputs": [
        {
          "output_type": "stream",
          "name": "stdout",
          "text": [
            "Vehicle Type: Electric Vehicle\n"
          ]
        }
      ]
    },
    {
      "cell_type": "markdown",
      "source": [
        "**4. Demonstrate polymorphism by creating a base class Bird with a method fly(). Create two derived classes Sparrow and Penguin that override the fly() method.**"
      ],
      "metadata": {
        "id": "hVseW7nVXH_T"
      }
    },
    {
      "cell_type": "code",
      "source": [
        "# Base class\n",
        "class Bird:\n",
        "    def fly(self):\n",
        "        print(\"Most birds can fly.\")\n",
        "\n",
        "# Derived class Sparrow\n",
        "class Sparrow(Bird):\n",
        "    def fly(self):\n",
        "        print(\"Sparrow flies swiftly.\")\n",
        "\n",
        "# Derived class Penguin\n",
        "class Penguin(Bird):\n",
        "    def fly(self):\n",
        "        print(\"Penguins can't fly, but they swim well.\")\n",
        "\n",
        "# Demonstrating polymorphism\n",
        "def bird_flight(bird):\n",
        "    bird.fly()\n",
        "\n",
        "# Create instances of Sparrow and Penguin\n",
        "sparrow = Sparrow()\n",
        "penguin = Penguin()\n",
        "\n",
        "# Call the fly method using polymorphism\n",
        "bird_flight(sparrow)  # Outputs: Sparrow flies swiftly.\n",
        "bird_flight(penguin)  # Outputs: Penguins can't fly, but they swim well.\n"
      ],
      "metadata": {
        "colab": {
          "base_uri": "https://localhost:8080/"
        },
        "id": "kzNV0R_NXGwK",
        "outputId": "ecc87532-7cb4-4e98-bf65-e28bede2d266"
      },
      "execution_count": null,
      "outputs": [
        {
          "output_type": "stream",
          "name": "stdout",
          "text": [
            "Sparrow flies swiftly.\n",
            "Penguins can't fly, but they swim well.\n"
          ]
        }
      ]
    },
    {
      "cell_type": "code",
      "source": [],
      "metadata": {
        "id": "l3j8V2rWXP7U"
      },
      "execution_count": null,
      "outputs": []
    },
    {
      "cell_type": "markdown",
      "source": [
        "**5. Write a program to demonstrate encapsulation by creating a class BankAccount with private attributes balance and methods to deposit, withdraw, and check balance.**"
      ],
      "metadata": {
        "id": "4aMWrhqpXQ9Q"
      }
    },
    {
      "cell_type": "code",
      "source": [
        "class BankAccount:\n",
        "    def __init__(self, initial_balance=0):\n",
        "        self.__balance = initial_balance  # Private attribute to store the balance\n",
        "\n",
        "    def deposit(self, amount):\n",
        "        if amount > 0:\n",
        "            self.__balance += amount\n",
        "            print(f\"Deposited: {amount}\")\n",
        "        else:\n",
        "            print(\"Deposit amount must be positive!\")\n",
        "\n",
        "    def withdraw(self, amount):\n",
        "        if 0 < amount <= self.__balance:\n",
        "            self.__balance -= amount\n",
        "            print(f\"Withdrawn: {amount}\")\n",
        "        elif amount > self.__balance:\n",
        "            print(\"Insufficient balance!\")\n",
        "        else:\n",
        "            print(\"Withdrawal amount must be positive!\")\n",
        "\n",
        "    def check_balance(self):\n",
        "        print(f\"Current Balance: {self.__balance}\")\n",
        "\n",
        "# Example usage\n",
        "account = BankAccount(100)  # Create a bank account with an initial balance of 100\n",
        "\n",
        "account.check_balance()  # Outputs: Current Balance: 100\n",
        "account.deposit(50)      # Outputs: Deposited: 50\n",
        "account.check_balance()  # Outputs: Current Balance: 150\n",
        "account.withdraw(30)     # Outputs: Withdrawn: 30\n",
        "account.check_balance()  # Outputs: Current Balance: 120\n",
        "account.withdraw(200)    # Outputs: Insufficient balance!\n"
      ],
      "metadata": {
        "colab": {
          "base_uri": "https://localhost:8080/"
        },
        "id": "PskkEUduXVj3",
        "outputId": "30ae92d1-db6d-4541-88e8-82eb66819840"
      },
      "execution_count": null,
      "outputs": [
        {
          "output_type": "stream",
          "name": "stdout",
          "text": [
            "Current Balance: 100\n",
            "Deposited: 50\n",
            "Current Balance: 150\n",
            "Withdrawn: 30\n",
            "Current Balance: 120\n",
            "Insufficient balance!\n"
          ]
        }
      ]
    },
    {
      "cell_type": "markdown",
      "source": [
        " **6. Demonstrate runtime polymorphism using a method play() in a base class Instrument. Derive classes Guitar and Piano that implement their own version of play().**"
      ],
      "metadata": {
        "id": "XCS8qfrpXanv"
      }
    },
    {
      "cell_type": "code",
      "source": [],
      "metadata": {
        "colab": {
          "base_uri": "https://localhost:8080/"
        },
        "id": "8koA3w0oXZ2G",
        "outputId": "35f5d74e-0109-4dfb-da63-b8ef6c10d925"
      },
      "execution_count": null,
      "outputs": [
        {
          "output_type": "stream",
          "name": "stdout",
          "text": [
            "Current Balance: 100\n",
            "Deposited: 50\n",
            "Current Balance: 150\n",
            "Withdrawn: 30\n",
            "Current Balance: 120\n",
            "Insufficient balance!\n"
          ]
        }
      ]
    },
    {
      "cell_type": "code",
      "source": [
        "# Base class\n",
        "class Instrument:\n",
        "    def play(self):\n",
        "        print(\"Playing an instrument.\")\n",
        "\n",
        "# Derived class Guitar\n",
        "class Guitar(Instrument):\n",
        "    def play(self):\n",
        "        print(\"Strumming the guitar strings.\")\n",
        "\n",
        "# Derived class Piano\n",
        "class Piano(Instrument):\n",
        "    def play(self):\n",
        "        print(\"Playing the piano keys.\")\n",
        "\n",
        "# Function to demonstrate runtime polymorphism\n",
        "def perform_music(instrument):\n",
        "    instrument.play()  # Calls the appropriate play() method based on the object type\n",
        "\n",
        "# Create instances of Guitar and Piano\n",
        "guitar = Guitar()\n",
        "piano = Piano()\n",
        "\n",
        "# Demonstrating runtime polymorphism\n",
        "perform_music(guitar)  # Outputs: Strumming the guitar strings.\n",
        "perform_music(piano)   # Outputs: Playing the piano keys.\n"
      ],
      "metadata": {
        "colab": {
          "base_uri": "https://localhost:8080/"
        },
        "id": "wzqE8OdcXgk2",
        "outputId": "c754fabc-b4a5-4287-ac56-2f7e13e19f38"
      },
      "execution_count": null,
      "outputs": [
        {
          "output_type": "stream",
          "name": "stdout",
          "text": [
            "Strumming the guitar strings.\n",
            "Playing the piano keys.\n"
          ]
        }
      ]
    },
    {
      "cell_type": "markdown",
      "source": [
        "**7. Create a class MathOperations with a class method add_numbers() to add two numbers and a static method subtract_numbers() to subtract two numbers.**"
      ],
      "metadata": {
        "id": "9WPhQhTCX3xR"
      }
    },
    {
      "cell_type": "code",
      "source": [
        "class MathOperations:\n",
        "    # Class method to add two numbers\n",
        "    @classmethod\n",
        "    def add_numbers(cls, a, b):\n",
        "        return a + b\n",
        "\n",
        "    # Static method to subtract two numbers\n",
        "    @staticmethod\n",
        "    def subtract_numbers(a, b):\n",
        "        return a - b\n",
        "\n",
        "# Example usage\n",
        "# Using the class method\n",
        "result_addition = MathOperations.add_numbers(10, 5)\n",
        "print(f\"Addition Result: {result_addition}\")  # Outputs: Addition Result: 15\n",
        "\n",
        "# Using the static method\n",
        "result_subtraction = MathOperations.subtract_numbers(10, 5)\n",
        "print(f\"Subtraction Result: {result_subtraction}\")  # Outputs: Subtraction Result: 5\n"
      ],
      "metadata": {
        "id": "EYq34fn1XzrR",
        "colab": {
          "base_uri": "https://localhost:8080/"
        },
        "outputId": "80508fca-0030-488f-f435-50212623b387"
      },
      "execution_count": null,
      "outputs": [
        {
          "output_type": "stream",
          "name": "stdout",
          "text": [
            "Addition Result: 15\n",
            "Subtraction Result: 5\n"
          ]
        }
      ]
    },
    {
      "cell_type": "markdown",
      "source": [
        "***8.Implement a class Person with a class method to count the total number of persons created ***"
      ],
      "metadata": {
        "id": "VRpAPT7aZOlj"
      }
    },
    {
      "cell_type": "code",
      "source": [
        "class Person:\n",
        "    # Class variable to track the count of persons\n",
        "    total_persons = 0\n",
        "\n",
        "    def __init__(self, name, age):\n",
        "        self.name = name\n",
        "        self.age = age\n",
        "        Person.total_persons += 1  # Increment the count when a new person is created\n",
        "\n",
        "    @classmethod\n",
        "    def get_total_persons(cls):\n",
        "        return cls.total_persons  # Access the class variable using cls\n",
        "\n",
        "# Example usage\n",
        "person1 = Person(\"Alice\", 30)\n",
        "person2 = Person(\"Bob\", 25)\n",
        "person3 = Person(\"Charlie\", 20)\n",
        "\n",
        "print(f\"Total persons created: {Person.get_total_persons()}\")  # Outputs: Total persons created: 3\n"
      ],
      "metadata": {
        "colab": {
          "base_uri": "https://localhost:8080/"
        },
        "id": "A0pJIbrBZLrH",
        "outputId": "9a624433-389a-4dff-9f7d-6b5d75996f71"
      },
      "execution_count": null,
      "outputs": [
        {
          "output_type": "stream",
          "name": "stdout",
          "text": [
            "Total persons created: 3\n"
          ]
        }
      ]
    },
    {
      "cell_type": "markdown",
      "source": [
        "**9.Write a class Fraction with attributes numerator and denominator. Override the str method to display the fraction as \"numerator/denominator\"**"
      ],
      "metadata": {
        "id": "ra70KBS-Zju6"
      }
    },
    {
      "cell_type": "code",
      "source": [
        "class Fraction:\n",
        "    def __init__(self, numerator, denominator):\n",
        "        self.numerator = numerator\n",
        "        self.denominator = denominator\n",
        "\n",
        "    def __str__(self):\n",
        "        return f\"{self.numerator}/{self.denominator}\"  # Returns the fraction as a string\n",
        "\n",
        "# Example usage\n",
        "fraction1 = Fraction(3, 4)\n",
        "fraction2 = Fraction(7, 2)\n",
        "\n",
        "print(fraction1)  # Outputs: 3/4\n",
        "print(fraction2)  # Outputs: 7/2\n"
      ],
      "metadata": {
        "colab": {
          "base_uri": "https://localhost:8080/"
        },
        "id": "p831gEtsZegs",
        "outputId": "d808657b-8bb1-43a4-c357-8150df898945"
      },
      "execution_count": null,
      "outputs": [
        {
          "output_type": "stream",
          "name": "stdout",
          "text": [
            "3/4\n",
            "7/2\n"
          ]
        }
      ]
    },
    {
      "cell_type": "markdown",
      "source": [
        "**10.Demonstrate operator overloading by creating a class Vector and overriding the add method to add two vectors.**"
      ],
      "metadata": {
        "id": "ksgMB5dIZucd"
      }
    },
    {
      "cell_type": "code",
      "source": [
        "class Vector:\n",
        "    def __init__(self, x, y):\n",
        "        self.x = x\n",
        "        self.y = y\n",
        "\n",
        "    def __add__(self, other):\n",
        "        # Add the corresponding components of two vectors\n",
        "        return Vector(self.x + other.x, self.y + other.y)\n",
        "\n",
        "    def __str__(self):\n",
        "        # String representation of the vector\n",
        "        return f\"Vector({self.x}, {self.y})\"\n",
        "\n",
        "# Example usage\n",
        "vector1 = Vector(2, 3)\n",
        "vector2 = Vector(4, 5)\n",
        "\n",
        "# Adding two vectors using the overloaded + operator\n",
        "result = vector1 + vector2\n",
        "\n",
        "print(vector1)  # Outputs: Vector(2, 3)\n",
        "print(vector2)  # Outputs: Vector(4, 5)\n",
        "print(result)   # Outputs: Vector(6, 8)\n"
      ],
      "metadata": {
        "colab": {
          "base_uri": "https://localhost:8080/"
        },
        "id": "U6kt1KqsZtrI",
        "outputId": "d70ad850-7646-4103-b1c0-e01401e1256f"
      },
      "execution_count": null,
      "outputs": [
        {
          "output_type": "stream",
          "name": "stdout",
          "text": [
            "Vector(2, 3)\n",
            "Vector(4, 5)\n",
            "Vector(6, 8)\n"
          ]
        }
      ]
    },
    {
      "cell_type": "markdown",
      "source": [
        "**11. Create a class Person with attributes name and age. Add a method greet() that prints \"Hello, my name is {name} and I am {age} years old.\"**"
      ],
      "metadata": {
        "id": "MF5Jzb9vHpJp"
      }
    },
    {
      "cell_type": "code",
      "source": [
        "class Person:\n",
        "    def __init__(self, name, age):\n",
        "        self.name = name\n",
        "        self.age = age\n",
        "\n",
        "    def greet(self):\n",
        "        print(f\"Hello, my name is {self.name} and I am {self.age} years old.\")\n",
        "\n",
        "# Example usage\n",
        "person = Person(\"RAM\", 25)\n",
        "person.greet()\n"
      ],
      "metadata": {
        "id": "pz-8POZNZ5BE",
        "colab": {
          "base_uri": "https://localhost:8080/"
        },
        "outputId": "d0fdee21-0000-40ca-a7d6-d1ad4840d59c"
      },
      "execution_count": 2,
      "outputs": [
        {
          "output_type": "stream",
          "name": "stdout",
          "text": [
            "Hello, my name is RAM and I am 25 years old.\n"
          ]
        }
      ]
    },
    {
      "cell_type": "markdown",
      "source": [
        "**12.Implement a class Student with attributes name and grades. Create a method average_grade() to compute the average of the grades.**"
      ],
      "metadata": {
        "id": "aPO5pqIZIbGz"
      }
    },
    {
      "cell_type": "code",
      "source": [
        "class Student:\n",
        "    def __init__(self, name, grades):\n",
        "        self.name = name\n",
        "        self.grades = grades  # List of grades\n",
        "\n",
        "    def average_grade(self):\n",
        "        if len(self.grades) == 0:\n",
        "            return 0  # Return 0 if no grades are provided\n",
        "        return sum(self.grades) / len(self.grades)\n",
        "\n",
        "# Example usage\n",
        "student = Student(\"Jagdish\", [85, 90, 78, 92])\n",
        "print(f\"{student.name}'s average grade is: {student.average_grade():.2f}\")\n"
      ],
      "metadata": {
        "colab": {
          "base_uri": "https://localhost:8080/"
        },
        "id": "PSnoQ3rOIZQ7",
        "outputId": "0139b787-bdd9-4be3-8ecf-c892390416de"
      },
      "execution_count": 4,
      "outputs": [
        {
          "output_type": "stream",
          "name": "stdout",
          "text": [
            "Jagdish's average grade is: 86.25\n"
          ]
        }
      ]
    },
    {
      "cell_type": "markdown",
      "source": [
        " **13. Create a class Rectangle with methods set_dimensions() to set the dimensions and area() to calculate the area.**"
      ],
      "metadata": {
        "id": "L0jF7pPtI46k"
      }
    },
    {
      "cell_type": "code",
      "source": [
        "class Rectangle:\n",
        "    def __init__(self):\n",
        "        self.length = 0\n",
        "        self.width = 0\n",
        "\n",
        "    def set_dimensions(self, length, width):\n",
        "        self.length = length\n",
        "        self.width = width\n",
        "\n",
        "    def area(self):\n",
        "        return self.length * self.width\n",
        "\n",
        "# Example usage\n",
        "rectangle = Rectangle()\n",
        "rectangle.set_dimensions(5, 3)\n",
        "print(f\"The area of the rectangle is: {rectangle.area()}\")\n"
      ],
      "metadata": {
        "colab": {
          "base_uri": "https://localhost:8080/"
        },
        "id": "bxLKjI3AIy3i",
        "outputId": "690e792b-3a23-4b1e-8897-737e7d3d8692"
      },
      "execution_count": 5,
      "outputs": [
        {
          "output_type": "stream",
          "name": "stdout",
          "text": [
            "The area of the rectangle is: 15\n"
          ]
        }
      ]
    },
    {
      "cell_type": "markdown",
      "source": [
        "**14.Create a class Employee with a method calculate_salary() that computes the salary based on hours worked and hourly rate. Create a derived class Manager that adds a bonus to the salary.**"
      ],
      "metadata": {
        "id": "Zb7Uzty0JF33"
      }
    },
    {
      "cell_type": "code",
      "source": [
        "class Employee:\n",
        "    def __init__(self, name, hourly_rate):\n",
        "        self.name = name\n",
        "        self.hourly_rate = hourly_rate\n",
        "\n",
        "    def calculate_salary(self, hours_worked):\n",
        "        return self.hourly_rate * hours_worked\n",
        "\n",
        "class Manager(Employee):\n",
        "    def __init__(self, name, hourly_rate, bonus):\n",
        "        super().__init__(name, hourly_rate)\n",
        "        self.bonus = bonus\n",
        "\n",
        "    def calculate_salary(self, hours_worked):\n",
        "        base_salary = super().calculate_salary(hours_worked)\n",
        "        return base_salary + self.bonus\n",
        "\n",
        "# Example usage\n",
        "employee = Employee(\"Sahil\", 20)\n",
        "print(f\"{employee.name}'s salary: {employee.calculate_salary(40)}\")\n",
        "\n",
        "manager = Manager(\"sangram\", 30, 500)\n",
        "print(f\"{manager.name}'s salary: {manager.calculate_salary(40)}\")\n"
      ],
      "metadata": {
        "colab": {
          "base_uri": "https://localhost:8080/"
        },
        "id": "lNBVLvKrJFAK",
        "outputId": "204cc701-3463-4da1-d65c-4f7c431c848f"
      },
      "execution_count": 7,
      "outputs": [
        {
          "output_type": "stream",
          "name": "stdout",
          "text": [
            "Sahil's salary: 800\n",
            "sangram's salary: 1700\n"
          ]
        }
      ]
    },
    {
      "cell_type": "markdown",
      "source": [
        "**15.Create a class Product with attributes name, price, and quantity. Implement a method total_price() that calculates the total price of the product.**"
      ],
      "metadata": {
        "id": "NYyS8mOxJgIe"
      }
    },
    {
      "cell_type": "code",
      "source": [
        "class Product:\n",
        "    def __init__(self, name, price, quantity):\n",
        "        self.name = name\n",
        "        self.price = price\n",
        "        self.quantity = quantity\n",
        "\n",
        "    def total_price(self):\n",
        "        return self.price * self.quantity\n",
        "\n",
        "# Example usage\n",
        "product = Product(\"Laptop\", 50000, 2)\n",
        "print(f\"The total price for {product.name} is: {product.total_price()}\")\n"
      ],
      "metadata": {
        "colab": {
          "base_uri": "https://localhost:8080/"
        },
        "id": "sgvtDLkJJYF8",
        "outputId": "a2d240fc-4159-4106-f033-5a7e31d5abe8"
      },
      "execution_count": 8,
      "outputs": [
        {
          "output_type": "stream",
          "name": "stdout",
          "text": [
            "The total price for Laptop is: 100000\n"
          ]
        }
      ]
    },
    {
      "cell_type": "markdown",
      "source": [
        "**16. Create a class Animal with an abstract method sound(). Create two derived classes Cow and Sheep that implement the sound() method**"
      ],
      "metadata": {
        "id": "S8OryM8dJpKB"
      }
    },
    {
      "cell_type": "code",
      "source": [
        "from abc import ABC, abstractmethod\n",
        "\n",
        "class Animal(ABC):\n",
        "    @abstractmethod\n",
        "    def sound(self):\n",
        "        pass\n",
        "\n",
        "class Cow(Animal):\n",
        "    def sound(self):\n",
        "        return \"Moo\"\n",
        "\n",
        "class Sheep(Animal):\n",
        "    def sound(self):\n",
        "        return \"Baa\"\n",
        "\n",
        "# Example usage\n",
        "cow = Cow()\n",
        "sheep = Sheep()\n",
        "print(f\"The cow says: {cow.sound()}\")\n",
        "print(f\"The sheep says: {sheep.sound()}\")\n"
      ],
      "metadata": {
        "colab": {
          "base_uri": "https://localhost:8080/"
        },
        "id": "liZwgIcuJlvu",
        "outputId": "21595722-1267-4891-e221-e3db263b511c"
      },
      "execution_count": 9,
      "outputs": [
        {
          "output_type": "stream",
          "name": "stdout",
          "text": [
            "The cow says: Moo\n",
            "The sheep says: Baa\n"
          ]
        }
      ]
    },
    {
      "cell_type": "markdown",
      "source": [
        "**17. Create a class Book with attributes title, author, and year_published. Add a method get_book_info() that returns a formatted string with the book's details.**"
      ],
      "metadata": {
        "id": "g59_ipVdJybz"
      }
    },
    {
      "cell_type": "code",
      "source": [
        "class Book:\n",
        "    def __init__(self, title, author, year_published):\n",
        "        self.title = title\n",
        "        self.author = author\n",
        "        self.year_published = year_published\n",
        "\n",
        "    def get_book_info(self):\n",
        "        return f\"'{self.title}' by {self.author}, published in {self.year_published}.\"\n",
        "\n",
        "# Example usage\n",
        "book = Book(\"Wings of Fire\", \"Dr A.P.J abdul Kalam\", 1999)\n",
        "print(book.get_book_info())\n"
      ],
      "metadata": {
        "colab": {
          "base_uri": "https://localhost:8080/"
        },
        "id": "ufp2AIkVJxkb",
        "outputId": "07a9d582-7931-4247-db9d-b951aa697831"
      },
      "execution_count": 11,
      "outputs": [
        {
          "output_type": "stream",
          "name": "stdout",
          "text": [
            "'Wings of Fire' by Dr A.P.J abdul Kalam, published in 1999.\n"
          ]
        }
      ]
    },
    {
      "cell_type": "markdown",
      "source": [
        "**18. Create a class House with attributes address and price. Create a derived class Mansion that adds an attribute number_of_rooms**"
      ],
      "metadata": {
        "id": "gmJsXTHFKQDg"
      }
    },
    {
      "cell_type": "code",
      "source": [
        "class House:\n",
        "    def __init__(self, address, price):\n",
        "        self.address = address\n",
        "        self.price = price\n",
        "\n",
        "    def get_details(self):\n",
        "        return f\"Address: {self.address}, Price: ₹{self.price}\"\n",
        "\n",
        "class Mansion(House):\n",
        "    def __init__(self, address, price, number_of_rooms):\n",
        "        super().__init__(address, price)\n",
        "        self.number_of_rooms = number_of_rooms\n",
        "\n",
        "    def get_details(self):\n",
        "        base_details = super().get_details()\n",
        "        return f\"{base_details}, Number of Rooms: {self.number_of_rooms}\"\n",
        "\n",
        "# Example usage\n",
        "house = House(\"123 Main Street, Bareilly\", 5000000)\n",
        "print(house.get_details())\n",
        "\n",
        "mansion = Mansion(\"45 Palace Road, Bareilly\", 20000000, 10)\n",
        "print(mansion.get_details())\n"
      ],
      "metadata": {
        "colab": {
          "base_uri": "https://localhost:8080/"
        },
        "id": "o34INwkPJ7wH",
        "outputId": "67c0c94e-c2e5-4723-c943-0c816daae86d"
      },
      "execution_count": 12,
      "outputs": [
        {
          "output_type": "stream",
          "name": "stdout",
          "text": [
            "Address: 123 Main Street, Bareilly, Price: ₹5000000\n",
            "Address: 45 Palace Road, Bareilly, Price: ₹20000000, Number of Rooms: 10\n"
          ]
        }
      ]
    },
    {
      "cell_type": "code",
      "source": [],
      "metadata": {
        "id": "U5XYjg0FKVCI"
      },
      "execution_count": null,
      "outputs": []
    }
  ]
}